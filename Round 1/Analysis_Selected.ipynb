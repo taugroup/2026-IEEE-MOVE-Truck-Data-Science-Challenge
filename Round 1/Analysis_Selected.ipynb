{
  "cells": [
    {
      "cell_type": "markdown",
      "metadata": {
        "id": "view-in-github",
        "colab_type": "text"
      },
      "source": [
        "<a href=\"https://colab.research.google.com/github/taugroup/2026-IEEE-MOVE-Truck-Data-Science-Challenge/blob/main/Round%201/Analysis_Selected.ipynb\" target=\"_parent\"><img src=\"https://colab.research.google.com/assets/colab-badge.svg\" alt=\"Open In Colab\"/></a>"
      ]
    },
    {
      "cell_type": "code",
      "execution_count": null,
      "metadata": {
        "id": "3BuF-x-xK1hU"
      },
      "outputs": [],
      "source": [
        "import os\n",
        "import pandas as pd\n",
        "#import folium\n",
        "import json\n",
        "import seaborn as sns\n",
        "from datetime import datetime"
      ]
    },
    {
      "cell_type": "code",
      "source": [
        "# Step 1: Download the file from the new Dropbox URL\n",
        "!wget \"https://www.dropbox.com/scl/fi/mam4v02g9fdg4igmbag1c/router_data.zip?rlkey=dhvdrik7wqfhyqeuzlslb5zns&st=u40ntej2&dl=0\" -O router_data.zip\n",
        "\n",
        "# Step 2: Unzip the downloaded file\n",
        "!unzip router_data.zip\n"
      ],
      "metadata": {
        "id": "pT64EkzFTKvs"
      },
      "execution_count": null,
      "outputs": []
    },
    {
      "cell_type": "code",
      "source": [
        "DATA_PATH = \"./20240902\"\n",
        "print(os.listdir(DATA_PATH))"
      ],
      "metadata": {
        "id": "FEPv0LL4awqh"
      },
      "execution_count": null,
      "outputs": []
    },
    {
      "cell_type": "code",
      "execution_count": null,
      "metadata": {
        "id": "TQIgZds2GZfv",
        "scrolled": true
      },
      "outputs": [],
      "source": [
        "import pandas as pd\n",
        "import glob\n",
        "import json\n",
        "\n",
        "def load_json_files(folder_path):\n",
        "    json_files = glob.glob(f\"{folder_path}/**/*.json\", recursive=True)\n",
        "    dataframes = []\n",
        "\n",
        "    for file in json_files:\n",
        "        print(f\"Processing: {file}\")\n",
        "        try:\n",
        "            with open(file, 'r') as f:\n",
        "                data = json.load(f)\n",
        "            df = pd.json_normalize(data)\n",
        "            dataframes.append(df)\n",
        "        except json.JSONDecodeError:\n",
        "            print(f\"Error: Could not parse JSON in {file}\")\n",
        "\n",
        "    return pd.concat(dataframes, ignore_index=True)\n",
        "\n",
        "# Usage\n",
        "\n",
        "combined_df = load_json_files(DATA_PATH)"
      ]
    },
    {
      "cell_type": "code",
      "execution_count": null,
      "metadata": {
        "id": "xgOJ5K2Nqwra"
      },
      "outputs": [],
      "source": [
        "selected_file = os.path.join(DATA_PATH, 'status.pickle')\n",
        "combined_df.to_pickle(selected_file)\n",
        "df = pd.read_pickle(selected_file)\n",
        "df"
      ]
    },
    {
      "cell_type": "code",
      "execution_count": null,
      "metadata": {
        "id": "poX9Pg-sOJPS"
      },
      "outputs": [],
      "source": [
        "df.columns"
      ]
    },
    {
      "cell_type": "code",
      "execution_count": null,
      "metadata": {
        "id": "2hi-Q8ChVZul"
      },
      "outputs": [],
      "source": [
        "import numpy as np\n",
        "\n",
        "def calculate_bearing(pointA, pointB):\n",
        "    lat1, lon1 = np.radians(pointA)\n",
        "    lat2, lon2 = np.radians(pointB)\n",
        "    dlon = lon2 - lon1\n",
        "    x = np.sin(dlon) * np.cos(lat2)\n",
        "    y = np.cos(lat1) * np.sin(lat2) - np.sin(lat1) * np.cos(lat2) * np.cos(dlon)\n",
        "    initial_bearing = np.arctan2(x, y)\n",
        "    initial_bearing = np.degrees(initial_bearing)\n",
        "    compass_bearing = (initial_bearing + 360) % 360\n",
        "    return compass_bearing"
      ]
    },
    {
      "cell_type": "code",
      "execution_count": null,
      "metadata": {
        "id": "YB80cIZmrHCT"
      },
      "outputs": [],
      "source": [
        "import folium\n",
        "from folium import plugins\n",
        "\n",
        "# Extract relevant GPS columns from 'selected' data\n",
        "gps_columns = ['timestamp',\n",
        "    'gps_fix.latitude.degree',\n",
        "    'gps_fix.latitude.minute',\n",
        "    'gps_fix.latitude.second',\n",
        "    'gps_fix.longitude.degree',\n",
        "    'gps_fix.longitude.minute',\n",
        "    'gps_fix.longitude.second'\n",
        "]\n",
        "\n",
        "# Assuming your DataFrame loaded from 'selected' data is also named 'df'\n",
        "if all(col in df.columns for col in gps_columns):\n",
        "    gps_df = df[gps_columns].copy()\n",
        "\n",
        "    # Function to convert degrees, minutes, seconds to decimal degrees\n",
        "    def dms_to_decimal(degree, minute, second):\n",
        "        return float(degree) + (float(minute) / 60) + (float(second) / 3600)\n",
        "\n",
        "    # Convert latitude and longitude to decimal degrees\n",
        "    gps_df['latitude'] = gps_df.apply(lambda row: dms_to_decimal(\n",
        "        row['gps_fix.latitude.degree'],\n",
        "        row['gps_fix.latitude.minute'],\n",
        "        row['gps_fix.latitude.second']\n",
        "    ), axis=1)\n",
        "\n",
        "    gps_df['longitude'] = gps_df.apply(lambda row: dms_to_decimal(\n",
        "        row['gps_fix.longitude.degree'],\n",
        "        row['gps_fix.longitude.minute'],\n",
        "        row['gps_fix.longitude.second']\n",
        "    ), axis=1)\n",
        "\n",
        "    center_lat = gps_df['latitude'].mean()\n",
        "    center_lon = gps_df['longitude'].mean()\n",
        "\n",
        "    m = folium.Map(location=[center_lat, center_lon], zoom_start=7)\n",
        "\n",
        "    # Add markers for each GPS coordinate\n",
        "    for idx, row in gps_df.iterrows():\n",
        "        folium.Marker(\n",
        "            location=[row['latitude'], row['longitude']],\n",
        "            popup=f\"Time: {row['timestamp']}\",\n",
        "            tooltip=f\"Lat: {row['latitude']:.6f}, Lon: {row['longitude']:.6f}\"\n",
        "        ).add_to(m)\n",
        "\n",
        "    # Add a PolyLine to show the movement path\n",
        "    coordinates = gps_df[['latitude', 'longitude']].values.tolist()\n",
        "    # folium.PolyLine(coordinates, color=\"red\", weight=2.5, opacity=1).add_to(m)\n",
        "\n",
        "    # Add AntPath to show movement direction\n",
        "    plugins.AntPath(\n",
        "        locations=coordinates,\n",
        "        color='blue',\n",
        "        weight=2,\n",
        "        opacity=0.7\n",
        "    ).add_to(m)\n",
        "\n",
        "    # Add markers for start and end points\n",
        "    folium.Marker(\n",
        "        coordinates[0],\n",
        "        popup=f\"Start: {gps_df['timestamp'].iloc[0]}\",\n",
        "        icon=folium.Icon(color='green', icon='play')\n",
        "    ).add_to(m)\n",
        "\n",
        "    folium.Marker(\n",
        "        coordinates[-1],\n",
        "        popup=f\"End: {gps_df['timestamp'].iloc[-1]}\",\n",
        "        icon=folium.Icon(color='red', icon='stop')\n",
        "    ).add_to(m)\n",
        "\n",
        "    # Add direction arrows (optional)\n",
        "    # for i in range(len(gps_df) - 1):\n",
        "    #     folium.PolyLine(\n",
        "    #         locations=[coordinates[i], coordinates[i+1]],\n",
        "    #         color='red',\n",
        "    #         weight=2,\n",
        "    #         opacity=0.8,\n",
        "    #         arrow_style='->',\n",
        "    #         arrow_size=6\n",
        "    #     ).add_to(m)\n",
        "\n",
        "    # Display the map (in a notebook environment)\n",
        "    m\n",
        "else:\n",
        "    print(f\"Error: Not all required columns ({gps_columns}) are present in the DataFrame.\")"
      ]
    },
    {
      "cell_type": "code",
      "execution_count": null,
      "metadata": {
        "id": "cSfDa_MtVdJu"
      },
      "outputs": [],
      "source": [
        "directions = []\n",
        "for i in range(len(gps_df) - 1):\n",
        "    pointA = (gps_df.iloc[i]['latitude'], gps_df.iloc[i]['longitude'])\n",
        "    pointB = (gps_df.iloc[i + 1]['latitude'], gps_df.iloc[i + 1]['longitude'])\n",
        "    directions.append(calculate_bearing(pointA, pointB))\n",
        "\n",
        "directions.append(None)  # No direction for the last point\n",
        "gps_df['direction'] = directions"
      ]
    },
    {
      "cell_type": "code",
      "execution_count": null,
      "metadata": {
        "id": "2zxv2I3EqTcC"
      },
      "outputs": [],
      "source": [
        "m.save(\"map_selected.html\")\n",
        "m"
      ]
    }
  ],
  "metadata": {
    "accelerator": "GPU",
    "colab": {
      "gpuType": "T4",
      "provenance": [],
      "include_colab_link": true
    },
    "kernelspec": {
      "display_name": "svd",
      "language": "python",
      "name": "python3"
    },
    "language_info": {
      "codemirror_mode": {
        "name": "ipython",
        "version": 3
      },
      "file_extension": ".py",
      "mimetype": "text/x-python",
      "name": "python",
      "nbconvert_exporter": "python",
      "pygments_lexer": "ipython3",
      "version": "3.12.3"
    }
  },
  "nbformat": 4,
  "nbformat_minor": 0
}